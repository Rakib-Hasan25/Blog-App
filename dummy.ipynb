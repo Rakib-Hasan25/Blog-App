{
  "nbformat": 4,
  "nbformat_minor": 0,
  "metadata": {
    "colab": {
      "provenance": [],
      "toc_visible": true,
      "authorship_tag": "ABX9TyNmej+q15kRFjMaGB6B4UtT",
      "include_colab_link": true
    },
    "kernelspec": {
      "name": "python3",
      "display_name": "Python 3"
    },
    "language_info": {
      "name": "python"
    }
  },
  "cells": [
    {
      "cell_type": "markdown",
      "metadata": {
        "id": "view-in-github",
        "colab_type": "text"
      },
      "source": [
        "<a href=\"https://colab.research.google.com/github/Rakib-Hasan25/Blog-App/blob/main/dummy.ipynb\" target=\"_parent\"><img src=\"https://colab.research.google.com/assets/colab-badge.svg\" alt=\"Open In Colab\"/></a>"
      ]
    },
    {
      "cell_type": "code",
      "execution_count": null,
      "metadata": {
        "colab": {
          "base_uri": "https://localhost:8080/"
        },
        "id": "H69voByAgn1D",
        "outputId": "58417a10-a379-48cf-8ed7-04d0a3ec0681"
      },
      "outputs": [
        {
          "output_type": "stream",
          "name": "stdout",
          "text": [
            "rakib 2 3 5\n"
          ]
        }
      ],
      "source": [
        "print(\"rakib\",2,3,5)"
      ]
    },
    {
      "cell_type": "code",
      "source": [
        "print(\"fsd\")"
      ],
      "metadata": {
        "id": "8vbWi6ovj5vg",
        "outputId": "0ed5c8ce-56dc-458a-8fbb-949bc608f90c",
        "colab": {
          "base_uri": "https://localhost:8080/"
        }
      },
      "execution_count": 4,
      "outputs": [
        {
          "output_type": "stream",
          "name": "stdout",
          "text": [
            "fsd\n"
          ]
        }
      ]
    },
    {
      "cell_type": "code",
      "source": [
        "print(\"hi\", 1,True)"
      ],
      "metadata": {
        "id": "C7hccTtmlVOP",
        "outputId": "5a8d80ab-d9cd-405f-a82b-3fb5308185a4",
        "colab": {
          "base_uri": "https://localhost:8080/"
        }
      },
      "execution_count": 5,
      "outputs": [
        {
          "output_type": "stream",
          "name": "stdout",
          "text": [
            "hi 1 True\n"
          ]
        }
      ]
    },
    {
      "cell_type": "markdown",
      "source": [
        "# New Section"
      ],
      "metadata": {
        "id": "OxbPO8eTgrmz"
      }
    }
  ]
}